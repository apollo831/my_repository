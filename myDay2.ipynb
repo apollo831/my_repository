{
 "cells": [
  {
   "cell_type": "code",
   "execution_count": 150,
   "metadata": {},
   "outputs": [],
   "source": [
    "import numpy as np\n",
    "import matplotlib.pyplot as plt\n",
    "import pandas as pd\n",
    "import sklearn \n",
    "import tensorflow as tf\n"
   ]
  },
  {
   "cell_type": "code",
   "execution_count": 151,
   "metadata": {},
   "outputs": [
    {
     "name": "stdout",
     "output_type": "stream",
     "text": [
      "학습 0: w = [0. 0.],  b = 0.0\n",
      "학습 1: w = [2. 2.],  b = 2.0\n",
      "학습 2: w = [4. 2.],  b = 0.0\n",
      "학습 3: w = [4. 2.],  b = -2.0\n",
      "학습 4: w = [4. 4.],  b = -2.0\n",
      "학습 5: w = [4. 2.],  b = -4.0\n",
      "학습 6: w = [4. 2.],  b = -4.0\n",
      "학습 7: w = [4. 2.],  b = -4.0\n",
      "학습 8: w = [4. 2.],  b = -4.0\n",
      "학습 9: w = [4. 2.],  b = -4.0\n",
      "xs -> 퍼셉트론 -> ys = [-1 -1 -1  1]\n"
     ]
    }
   ],
   "source": [
    "class 퍼셉트론:\n",
    "    def __init__(self, w, b):\n",
    "        self.w = w\n",
    "        self.b = b\n",
    "\n",
    "    def __call__(self, Xs):\n",
    "        z = np.dot(Xs, self.w) + self.b\n",
    "        return np.where(z > 0, 1, -1)\n",
    "\n",
    "    def 학습(self, data, target, 학습횟수=1, 학습률=1.0):\n",
    "        표본수, 특성수 = data.shape\n",
    "        # 매개변수 초기화\n",
    "        self.w = np.zeros(특성수)\n",
    "        self.b = 0.0\n",
    "\n",
    "        정답 = target\n",
    "        for 학습 in range(학습횟수):\n",
    "            print(f'학습 {학습}: w = {self.w},  b = {self.b}')\n",
    "            for xi, yi in zip(data, 정답):\n",
    "                예측 = self(xi)\n",
    "                오류 = yi - 예측\n",
    "                갱신 = 오류 * 학습률\n",
    "                self.w += 갱신 * xi\n",
    "                self.b += 갱신\n",
    "\n",
    "# Define the values for w_and and b_and\n",
    "w_and = np.array([0.5, 0.5])\n",
    "b_and = -0.7\n",
    "\n",
    "\n",
    "AND = 퍼셉트론(w=w_and, b=b_and)\n",
    "Xs = np.array([[0,0], [0,1], [1,0], [1,1]])\n",
    "# 정답 \n",
    "y_and = np.array([-1,-1,-1,1])\n",
    "# 지도학습\n",
    "AND.학습(data=Xs, target=y_and, 학습횟수=10, 학습률=1.0)\n",
    "# 학습 결과 확인\n",
    "ys = AND(Xs)\n",
    "assert all(ys == np.array([-1, -1, -1, 1]))\n",
    "print(f'xs -> 퍼셉트론 -> ys = {ys}')\n"
   ]
  },
  {
   "cell_type": "code",
   "execution_count": 152,
   "metadata": {},
   "outputs": [],
   "source": [
    "from sklearn.datasets import load_iris\n",
    "iris = load_iris()"
   ]
  },
  {
   "cell_type": "code",
   "execution_count": 153,
   "metadata": {},
   "outputs": [
    {
     "name": "stdout",
     "output_type": "stream",
     "text": [
      "150 = 112 + 38\n",
      "(array([0, 1, 2]), array([50, 50, 50]))\n",
      "(array([0, 1, 2]), array([38, 37, 37]))\n",
      "(array([0, 1, 2]), array([12, 13, 13]))\n"
     ]
    }
   ],
   "source": [
    "# 훈련/시험 데이터 분리\n",
    "from sklearn.model_selection import train_test_split\n",
    "훈련데이터, 시험데이터, 훈련정답, 시험정답 = train_test_split(iris.data, iris.target, test_size=0.25, shuffle=True, random_state=1, stratify=iris.target)\n",
    "print(f'{len(iris.data)} = {len(훈련데이터)} + {len(시험데이터)}')\n",
    "\n",
    "# 라벨 도수\n",
    "print(np.unique(iris.target, return_counts=True))\n",
    "print(np.unique(훈련정답, return_counts=True))\n",
    "print(np.unique(시험정답, return_counts=True))\n"
   ]
  },
  {
   "cell_type": "code",
   "execution_count": 154,
   "metadata": {},
   "outputs": [],
   "source": [
    "# y = {0, 1}\n",
    "라벨필터1 = np.logical_or(훈련정답 == 0, 훈련정답 == 1)\n",
    "np.unique(훈련정답[라벨필터1], return_counts=True)\n",
    "X1_train = 훈련데이터[라벨필터1]\n",
    "y1_train = 훈련정답[라벨필터1]\n",
    "assert len(X1_train) == len(y1_train)\n",
    "# {0, 1} -> {-1, 1}\n",
    "y1_train = np.where(y1_train == 0, -1, 1)\n",
    "assert all(np.unique(y1_train) == np.array([-1, 1]))"
   ]
  },
  {
   "cell_type": "code",
   "execution_count": 155,
   "metadata": {},
   "outputs": [],
   "source": [
    "# y = {0, 1}\n",
    "라벨필터1 = np.logical_or(시험정답 == 0, 시험정답 == 1)\n",
    "np.unique(시험정답[라벨필터1], return_counts=True)\n",
    "X1_test = 시험데이터[라벨필터1]\n",
    "y1_test = 시험정답[라벨필터1]\n",
    "assert len(X1_test) == len(y1_test)\n",
    "# {0, 1} -> {-1, 1}\n",
    "y1_test = np.where(y1_test == 0, -1, 1)\n",
    "assert all(np.unique(y1_test) == np.array([-1, 1]))"
   ]
  },
  {
   "cell_type": "code",
   "execution_count": 156,
   "metadata": {},
   "outputs": [
    {
     "data": {
      "text/plain": [
       "((75, 4), (25, 4))"
      ]
     },
     "execution_count": 156,
     "metadata": {},
     "output_type": "execute_result"
    }
   ],
   "source": [
    "X1_train.shape, X1_test.shape"
   ]
  },
  {
   "cell_type": "code",
   "execution_count": 157,
   "metadata": {},
   "outputs": [
    {
     "ename": "TypeError",
     "evalue": "__init__() missing 2 required positional arguments: 'w' and 'b'",
     "output_type": "error",
     "traceback": [
      "\u001b[0;31m---------------------------------------------------------------------------\u001b[0m",
      "\u001b[0;31mTypeError\u001b[0m                                 Traceback (most recent call last)",
      "Cell \u001b[0;32mIn[157], line 1\u001b[0m\n\u001b[0;32m----> 1\u001b[0m 붓꽃분류기1 \u001b[38;5;241m=\u001b[39m \u001b[43m퍼셉트론\u001b[49m\u001b[43m(\u001b[49m\u001b[43m)\u001b[49m\n\u001b[1;32m      2\u001b[0m 붓꽃분류기1\u001b[38;5;241m.\u001b[39m학습(data\u001b[38;5;241m=\u001b[39mX1_train[:, [\u001b[38;5;241m0\u001b[39m,\u001b[38;5;241m2\u001b[39m]], target\u001b[38;5;241m=\u001b[39my1_train, 학습횟수\u001b[38;5;241m=\u001b[39m\u001b[38;5;241m10\u001b[39m, 학습률\u001b[38;5;241m=\u001b[39m\u001b[38;5;241m0.1\u001b[39m)\n\u001b[1;32m      3\u001b[0m \u001b[38;5;66;03m# 매개변수\u001b[39;00m\n",
      "\u001b[0;31mTypeError\u001b[0m: __init__() missing 2 required positional arguments: 'w' and 'b'"
     ]
    }
   ],
   "source": [
    "붓꽃분류기1 = 퍼셉트론()\n",
    "붓꽃분류기1.학습(data=X1_train[:, [0,2]], target=y1_train, 학습횟수=10, 학습률=0.1)\n",
    "# 매개변수\n",
    "print(f'w = {붓꽃분류기1.w}, b = {붓꽃분류기1.b}')\n",
    "예측 = 붓꽃분류기1(X1_test[:, [0,2]])\n",
    "채점 = 예측 == y1_test\n",
    "print(f'{sum(채점)} / {len(채점)}, 정확도: {np.mean(채점):.0%}')\n"
   ]
  },
  {
   "cell_type": "code",
   "execution_count": null,
   "metadata": {},
   "outputs": [
    {
     "name": "stderr",
     "output_type": "stream",
     "text": [
      "/var/folders/jc/1rcjj0kj5zv2wck43jqpwzlw0000gn/T/ipykernel_999/3215855163.py:3: FutureWarning: A value is trying to be set on a copy of a DataFrame or Series through chained assignment using an inplace method.\n",
      "The behavior will change in pandas 3.0. This inplace method will never work because the intermediate object on which we are setting values always behaves as a copy.\n",
      "\n",
      "For example, when doing 'df[col].method(value, inplace=True)', try using 'df.method({col: value}, inplace=True)' or df[col] = df[col].method(value) instead, to perform the operation inplace on the original object.\n",
      "\n",
      "\n",
      "  iris.frame['품종'].replace({0: 'setosa', 1: 'versicolor', 2: 'virginica'}, inplace=True)\n"
     ]
    },
    {
     "data": {
      "image/png": "[encoded data removed]",
      "text/plain": [
       "<Figure size 640x480 with 2 Axes>"
      ]
     },
     "metadata": {},
     "output_type": "display_data"
    }
   ],
   "source": [
    "iris.frame = pd.DataFrame(iris.data, columns=iris.feature_names)\n",
    "iris.frame['품종'] = iris.target\n",
    "iris.frame['품종'].replace({0: 'setosa', 1: 'versicolor', 2: 'virginica'}, inplace=True)\n",
    "# 2-D 산점도\n",
    "iris.frame.plot(kind='scatter', x=0, y=2, c=iris.target, colormap='brg')\n",
    "# 결정경계\n",
    "z0 = lambda x, w, b: -(w[0]*x + b)/w[1]\n",
    "x = np.linspace(4, 8, 100)\n",
    "plt.plot(x, z0(x, 붓꽃분류기1.w, 붓꽃분류기1.b), 'r-')\n",
    "plt.show()"
   ]
  },
  {
   "cell_type": "markdown",
   "metadata": {},
   "source": [
    "## 결정 경계"
   ]
  },
  {
   "cell_type": "code",
   "execution_count": null,
   "metadata": {},
   "outputs": [
    {
     "name": "stdout",
     "output_type": "stream",
     "text": [
      "학습 0: w = [0. 0.],  b = 0.0\n",
      "학습 1: w = [2. 2.],  b = 2.0\n",
      "학습 2: w = [4. 2.],  b = 0.0\n",
      "학습 3: w = [4. 2.],  b = -2.0\n",
      "학습 4: w = [4. 4.],  b = -2.0\n"
     ]
    },
    {
     "data": {
      "image/png": "[encoded data removed]",
      "text/plain": [
       "<Figure size 200x200 with 1 Axes>"
      ]
     },
     "metadata": {},
     "output_type": "display_data"
    }
   ],
   "source": [
    "AND = 퍼셉트론()\n",
    "X = np.array([[0,0], [0,1], [1,0], [1,1]])\n",
    "y_and = np.array([-1,-1,-1,1])\n",
    "AND.학습(X, y_and, 학습횟수=5)\n",
    "assert all(AND(X) == y_and)\n",
    "\n",
    "plt.figure(figsize=(2, 2))\n",
    "plt.scatter(X[:,0], X[:,1], c=y_and, cmap='bwr')\n",
    "# 결정경계: z=0\n",
    "z0 = lambda x, w, b: (w[0] * x + b) / -w[1]\n",
    "x1 = np.linspace(-0.1, 1.1)\n",
    "plt.plot(x1, z0(x1, AND.w, AND.b), 'r-')\n",
    "\n",
    "# 또 다른 결정경계\n",
    "plt.plot(x1, z0(x1, w=np.array([0.5, 0.5]), b=-0.7), 'g-')\n",
    "plt.show()"
   ]
  },
  {
   "cell_type": "code",
   "execution_count": null,
   "metadata": {},
   "outputs": [],
   "source": []
  },
  {
   "cell_type": "code",
   "execution_count": null,
   "metadata": {},
   "outputs": [],
   "source": []
  },
  {
   "cell_type": "code",
   "execution_count": null,
   "metadata": {},
   "outputs": [
    {
     "name": "stdout",
     "output_type": "stream",
     "text": [
      "(array([0, 1]), array([38, 37]))\n"
     ]
    }
   ],
   "source": [
    "def label_filter(data, labels, label_values):\n",
    "    filter_condition = np.isin(labels, label_values)\n",
    "    print(np.unique(labels[filter_condition], return_counts=True))\n",
    "    filtered_data = data[filter_condition]\n",
    "    filtered_labels = labels[filter_condition]\n",
    "    assert len(filtered_data) == len(filtered_labels)\n",
    "    # Convert labels to {-1, 1}\n",
    "    label_map = {label_values[0]: -1, label_values[1]: 1}\n",
    "    filtered_labels = np.array([label_map[label] for label in filtered_labels])\n",
    "    assert all(np.unique(filtered_labels) == np.array([-1, 1]))\n",
    "    return filtered_data, filtered_labels\n",
    "\n",
    "# Usage\n",
    "label_values = [0, 1]  # You can set your desired label values here\n",
    "X1_train, y1_train = label_filter(훈련데이터, 훈련정답, label_values)"
   ]
  },
  {
   "cell_type": "code",
   "execution_count": null,
   "metadata": {},
   "outputs": [
    {
     "name": "stdout",
     "output_type": "stream",
     "text": [
      "(array([1, 2]), array([37, 37]))\n",
      "(array([1, 2]), array([13, 13]))\n",
      "학습 0: w = [0. 0.],  b = 0.0\n",
      "학습 1: w = [-1.7   1.62],  b = -0.8\n",
      "학습 2: w = [-2.28  3.06],  b = -1.2\n",
      "학습 3: w = [-2.92  4.08],  b = -1.7999999999999998\n",
      "학습 4: w = [-3.2  4.7],  b = -1.9999999999999998\n",
      "학습 5: w = [-3.4   5.02],  b = -2.1999999999999997\n",
      "학습 6: w = [-4.26  5.22],  b = -2.6\n",
      "학습 7: w = [-4.18  6.06],  b = -2.8000000000000003\n",
      "학습 8: w = [-4.46  6.5 ],  b = -3.0000000000000004\n",
      "학습 9: w = [-5.28  6.7 ],  b = -3.400000000000001\n",
      "23 / 26, 정확도: 88%\n"
     ]
    }
   ],
   "source": [
    "X2_train, y2_train = label_filter(훈련데이터, 훈련정답, [1, 2])\n",
    "X2_test, y2_test = label_filter(시험데이터, 시험정답, [1, 2])\n",
    "\n",
    "붓꽃분류기2 = 퍼셉트론()\n",
    "붓꽃분류기2.학습(data=X2_train[:, [0,2]], target=y2_train, 학습횟수=10, 학습률=0.1)\n",
    "# 평가\n",
    "예측 = 붓꽃분류기2(X2_test[:, [0,2]])\n",
    "채점 = 예측 == y2_test\n",
    "print(f'{sum(채점)} / {len(채점)}, 정확도: {np.mean(채점):.0%}')"
   ]
  },
  {
   "cell_type": "code",
   "execution_count": null,
   "metadata": {},
   "outputs": [],
   "source": []
  },
  {
   "cell_type": "code",
   "execution_count": null,
   "metadata": {},
   "outputs": [
    {
     "name": "stderr",
     "output_type": "stream",
     "text": [
      "/var/folders/jc/1rcjj0kj5zv2wck43jqpwzlw0000gn/T/ipykernel_999/3675955864.py:3: FutureWarning: A value is trying to be set on a copy of a DataFrame or Series through chained assignment using an inplace method.\n",
      "The behavior will change in pandas 3.0. This inplace method will never work because the intermediate object on which we are setting values always behaves as a copy.\n",
      "\n",
      "For example, when doing 'df[col].method(value, inplace=True)', try using 'df.method({col: value}, inplace=True)' or df[col] = df[col].method(value) instead, to perform the operation inplace on the original object.\n",
      "\n",
      "\n",
      "  iris.frame['품종'].replace({0: 'setosa', 1: 'versicolor', 2: 'virginica'}, inplace=True)\n"
     ]
    },
    {
     "data": {
      "image/png": "[encoded data removed]",
      "text/plain": [
       "<Figure size 640x480 with 2 Axes>"
      ]
     },
     "metadata": {},
     "output_type": "display_data"
    }
   ],
   "source": [
    "iris.frame = pd.DataFrame(iris.data, columns=iris.feature_names)\n",
    "iris.frame['품종'] = iris.target\n",
    "iris.frame['품종'].replace({0: 'setosa', 1: 'versicolor', 2: 'virginica'}, inplace=True)\n",
    "# 2-D 산점도\n",
    "iris.frame.plot(kind='scatter', x=0, y=2, c=iris.target, colormap='brg')\n",
    "# 결정경계\n",
    "z0 = lambda x, w, b: -(w[0]*x + b)/w[1]\n",
    "x = np.linspace(4, 8, 100)\n",
    "plt.plot(x, z0(x, 붓꽃분류기2.w, 붓꽃분류기2.b), 'r-')\n",
    "plt.show()"
   ]
  },
  {
   "cell_type": "code",
   "execution_count": null,
   "metadata": {},
   "outputs": [
    {
     "name": "stdout",
     "output_type": "stream",
     "text": [
      "학습 0: w = [0. 0.],  b = 0.0\n",
      "학습 1: w = [0. 2.],  b = 2.0\n",
      "학습 2: w = [2. 2.],  b = 2.0\n",
      "학습 3: w = [2. 2.],  b = 0.0\n",
      "학습 4: w = [2. 2.],  b = 0.0\n",
      "학습 0: w = [0. 0.],  b = 0.0\n",
      "학습 1: w = [-2.  0.],  b = 0.0\n",
      "학습 2: w = [-2.  0.],  b = 2.0\n",
      "학습 3: w = [-2.  0.],  b = 2.0\n",
      "학습 4: w = [-2.  0.],  b = 2.0\n",
      "학습 5: w = [-2.  0.],  b = 2.0\n",
      "학습 6: w = [-2.  0.],  b = 2.0\n",
      "학습 7: w = [-2.  0.],  b = 2.0\n",
      "학습 8: w = [-2.  0.],  b = 2.0\n",
      "XOR 문제는 선형 분리가 불가능합니다.\n"
     ]
    },
    {
     "name": "stderr",
     "output_type": "stream",
     "text": [
      "/var/folders/jc/1rcjj0kj5zv2wck43jqpwzlw0000gn/T/ipykernel_999/885378877.py:20: RuntimeWarning: divide by zero encountered in divide\n",
      "  z0 = lambda x, w, b: (w[0] * x + b) / -w[1]\n"
     ]
    },
    {
     "data": {
      "image/png": "[encoded data removed]",
      "text/plain": [
       "<Figure size 600x300 with 3 Axes>"
      ]
     },
     "metadata": {},
     "output_type": "display_data"
    }
   ],
   "source": [
    "OR = 퍼셉트론()\n",
    "X = np.array([[0,0], [0,1], [1,0], [1,1]])\n",
    "y_or = np.array([-1, 1, 1, 1])\n",
    "OR.학습(X, y_or, 학습횟수=5)\n",
    "assert all(OR(X) == y_or)\n",
    "\n",
    "XOR = 퍼셉트론()\n",
    "X = np.array([[0,0], [0,1], [1,0], [1,1]])\n",
    "y_xor = np.array([-1, 1, 1, -1])\n",
    "XOR.학습(X, y_xor, 학습횟수=9)\n",
    "try:\n",
    "    assert all(XOR(X) == y_xor)\n",
    "except AssertionError:\n",
    "    print('XOR 문제는 선형 분리가 불가능합니다.')\n",
    "\n",
    "# 시각화\n",
    "plt.figure(figsize=(6, 3))\n",
    "plt.scatter(X[:,0], X[:,1], c=y_or, cmap='bwr')\n",
    "# 결정경계: z=0\n",
    "z0 = lambda x, w, b: (w[0] * x + b) / -w[1]\n",
    "x1 = np.linspace(-0.1, 1.1)\n",
    "# OR\n",
    "subplot = plt.subplot(1, 2, 1)\n",
    "plt.title('OR')\n",
    "plt.plot(x1, z0(x1, OR.w, OR.b), 'r-')\n",
    "plt.plot(x1, z0(x1, w=np.array([0.5, 0.5]), b=-0.2), 'g-')\n",
    "\n",
    "# XOR\n",
    "subplot = plt.subplot(1, 2, 2)\n",
    "plt.title('XOR')\n",
    "plt.plot(x1, z0(x1, XOR.w, XOR.b), 'b-')\n",
    "plt.show()"
   ]
  },
  {
   "cell_type": "markdown",
   "metadata": {},
   "source": [
    "# 1970년대 다층 퍼셉트론"
   ]
  },
  {
   "cell_type": "code",
   "execution_count": null,
   "metadata": {},
   "outputs": [
    {
     "name": "stdout",
     "output_type": "stream",
     "text": [
      "학습 0: w = [0. 0.],  b = 0.0\n",
      "학습 1: w = [2. 2.],  b = 2.0\n",
      "학습 2: w = [4. 2.],  b = 0.0\n",
      "학습 3: w = [4. 2.],  b = -2.0\n",
      "학습 4: w = [4. 4.],  b = -2.0\n",
      "학습 0: w = [0. 0.],  b = 0.0\n",
      "학습 1: w = [0. 2.],  b = 2.0\n",
      "학습 2: w = [2. 2.],  b = 2.0\n",
      "학습 3: w = [2. 2.],  b = 0.0\n",
      "학습 4: w = [2. 2.],  b = 0.0\n",
      "학습 0: w = [0. 0.],  b = 0.0\n",
      "학습 1: w = [-2. -2.],  b = 0.0\n",
      "학습 2: w = [-4. -2.],  b = 2.0\n",
      "학습 3: w = [-4. -2.],  b = 4.0\n",
      "학습 4: w = [-4. -4.],  b = 4.0\n"
     ]
    }
   ],
   "source": [
    "# 진리표 입력\n",
    "X = np.array([[0,0], [0,1], [1,0], [1,1]])\n",
    "AND = 퍼셉트론()\n",
    "y_and = np.array([-1, -1, -1, 1])\n",
    "AND.학습(X, y_and, 학습횟수=5)\n",
    "assert all(AND(X) == y_and)\n",
    "\n",
    "OR = 퍼셉트론()\n",
    "y_or = np.array([-1, 1, 1, 1])\n",
    "OR.학습(X, y_or, 학습횟수=5)\n",
    "assert all(OR(X) == y_or)\n",
    "\n",
    "NAND = 퍼셉트론()   \n",
    "y_nand = np.array([1, 1, 1, -1])\n",
    "NAND.학습(X, y_nand, 학습횟수=5)\n",
    "assert all(NAND(X) == y_nand)\n"
   ]
  },
  {
   "cell_type": "code",
   "execution_count": null,
   "metadata": {},
   "outputs": [],
   "source": [
    "s1 = NAND(X)\n",
    "s2 = OR(X)\n",
    "S = np.array([s1, s2]).T\n",
    "assert all(AND(S) == np.array([-1, 1, 1, -1]))"
   ]
  },
  {
   "cell_type": "markdown",
   "metadata": {},
   "source": [
    "## 1980년대 신경망"
   ]
  },
  {
   "cell_type": "code",
   "execution_count": null,
   "metadata": {},
   "outputs": [
    {
     "name": "stdout",
     "output_type": "stream",
     "text": [
      "[ 1  1 -1]\n"
     ]
    }
   ],
   "source": [
    "x = np.array([0.1, 0.2])\n",
    "\n",
    "특징차원 = 2\n",
    "p1 = 퍼셉트론(w=np.random.randn(특징차원), b=np.random.randn())\n",
    "p2 = 퍼셉트론(w=np.random.randn(특징차원), b=np.random.randn())\n",
    "p3 = 퍼셉트론(w=np.random.randn(특징차원), b=np.random.randn())\n",
    "\n",
    "# 계층 출력\n",
    "h1 =p1(x)\n",
    "h2 =p2(x)\n",
    "h3 =p3(x)\n",
    "\n",
    "H = np.array([h1, h2, h3])\n",
    "print(H)"
   ]
  },
  {
   "cell_type": "markdown",
   "metadata": {},
   "source": [
    "# 활성화 함수 (비선형 함수)"
   ]
  },
  {
   "cell_type": "code",
   "execution_count": null,
   "metadata": {},
   "outputs": [
    {
     "data": {
      "image/png": "[encoded data removed]",
      "text/plain": [
       "<Figure size 600x300 with 2 Axes>"
      ]
     },
     "metadata": {},
     "output_type": "display_data"
    }
   ],
   "source": [
    "def step(z, min_value=-1, max_value=1):\n",
    "    return np.where(z>0, max_value, min_value)\n",
    "\n",
    "sigmoid = lambda z: 1 / (1 + np.exp(-z))\n",
    "\n",
    "plt.figure(figsize=(6, 3))\n",
    "plt.subplot(1,2,1)\n",
    "z = np.arange(-5, 5, 0.1)\n",
    "plt.plot(z, step(z), label='step')\n",
    "plt.plot(z, np.tanh(z), label='tanh')\n",
    "plt.legend()\n",
    "plt.subplot(1,2,2)\n",
    "plt.plot(z, step(z,0,1), label='step(0,1)')\n",
    "plt.plot(z, sigmoid(z), label='sigmoid')\n",
    "plt.legend()\n",
    "plt.show()"
   ]
  },
  {
   "cell_type": "code",
   "execution_count": null,
   "metadata": {},
   "outputs": [
    {
     "name": "stdout",
     "output_type": "stream",
     "text": [
      "x=[0.1 0.2]\n",
      "-> H1=[0.42646618 0.5921678  0.73143495]\n",
      "-> H2=[0.38990605 0.37110926]\n",
      "-> y=[-0.02641024  0.08994025]\n"
     ]
    }
   ],
   "source": [
    "class 완전연결:\n",
    "    def __init__(self, 입력수, 출력수, 활성화=None):\n",
    "        self.W = np.random.randn(입력수, 출력수)\n",
    "        self.b = np.random.randn(출력수)\n",
    "        self.활성화 = 활성화\n",
    "\n",
    "    def __call__(self, X):\n",
    "        Z = np.dot(X, self.W) + self.b\n",
    "        if self.활성화:\n",
    "            Z = self.활성화(Z)\n",
    "        return Z\n",
    "\n",
    "class 신경망:\n",
    "    def __init__(self):\n",
    "        self.layers = []\n",
    "\n",
    "    def add(self, layer):\n",
    "        \"\"\"계층 추가\"\"\"\n",
    "        self.layers.append(layer)\n",
    "\n",
    "    def __call__(self, x):\n",
    "        \"\"\"순전파\"\"\"\n",
    "        output = x\n",
    "        for layer in self.layers:\n",
    "            output = layer(output)\n",
    "        return output\n",
    "    \n",
    "FC = 완전연결\n",
    "\n",
    "activation = sigmoid\n",
    "layer1 = FC(입력수=2, 출력수=3, 활성화=activation)\n",
    "layer2 = FC(입력수=3, 출력수=2, 활성화=activation)\n",
    "layer3 = FC(입력수=2, 출력수=2)\n",
    "\n",
    "# 순전파 (forward propagation, feed forward)\n",
    "x = np.array([0.1, 0.2])\n",
    "H1 = layer1(x)\n",
    "H2 = layer2(H1)\n",
    "y = layer3(H2)\n",
    "\n",
    "model = 신경망()\n",
    "model.add(layer1)\n",
    "model.add(layer2)\n",
    "model.add(layer3)\n",
    "assert all(model(x) == y)\n",
    "\n",
    "print(f'x={x}\\n-> H1={H1}\\n-> H2={H2}\\n-> y={y}')"
   ]
  },
  {
   "cell_type": "markdown",
   "metadata": {},
   "source": [
    "# 응용사례: 손글씨 인식하기"
   ]
  },
  {
   "cell_type": "markdown",
   "metadata": {},
   "source": []
  },
  {
   "cell_type": "code",
   "execution_count": null,
   "metadata": {},
   "outputs": [
    {
     "name": "stdout",
     "output_type": "stream",
     "text": [
      "(60000, 28, 28) (10000, 28, 28)\n",
      "0    5923\n",
      "1    6742\n",
      "2    5958\n",
      "3    6131\n",
      "4    5842\n",
      "5    5421\n",
      "6    5918\n",
      "7    6265\n",
      "8    5851\n",
      "9    5949\n",
      "Name: count, dtype: int64\n"
     ]
    }
   ],
   "source": [
    "import pickle\n",
    "\n",
    "with open('data/mnist/mnist_ndarray.pkl', 'rb') as f:\n",
    "    mnist = pickle.load(f)\n",
    "\n",
    "(train_images, train_labels), (test_images, test_labels) = mnist    \n",
    "\n",
    "print(train_images.shape, test_images.shape)\n",
    "assert len(train_images) == len(train_labels)\n",
    "assert len(test_images) == len(test_labels)\n",
    "\n",
    "print(pd.Series(train_labels).value_counts().sort_index())"
   ]
  },
  {
   "cell_type": "code",
   "execution_count": null,
   "metadata": {},
   "outputs": [
    {
     "name": "stdout",
     "output_type": "stream",
     "text": [
      "uint8\n",
      "0 <= Pixel <= 255\n"
     ]
    }
   ],
   "source": [
    "print(train_images.dtype)\n",
    "print(f'{train_images.min()} <= Pixel <= {train_images.max()}') "
   ]
  },
  {
   "cell_type": "code",
   "execution_count": null,
   "metadata": {},
   "outputs": [
    {
     "data": {
      "image/png": "[encoded data removed]",
      "text/plain": [
       "<Figure size 100x100 with 1 Axes>"
      ]
     },
     "metadata": {},
     "output_type": "display_data"
    }
   ],
   "source": [
    "image = train_images[0]\n",
    "\n",
    "plt.figure(figsize=(1,1))\n",
    "plt.imshow(image, cmap='gray')\n",
    "plt.axis('off')\n",
    "\n",
    "plt.show()"
   ]
  },
  {
   "cell_type": "code",
   "execution_count": null,
   "metadata": {},
   "outputs": [
    {
     "data": {
      "image/png": "[encoded data removed]",
      "text/plain": [
       "<Figure size 640x480 with 10 Axes>"
      ]
     },
     "metadata": {},
     "output_type": "display_data"
    }
   ],
   "source": [
    "그림틀, 그래프들 = plt.subplots(2, 5)\n",
    "for 그래프, 이미지, 라벨 in zip(그래프들.flat, train_images, train_labels):\n",
    "    그래프.imshow(이미지, cmap='gray')\n",
    "    그래프.set_title(라벨)\n",
    "    그래프.axis('off')\n",
    "\n",
    "plt.tight_layout()\n",
    "plt.show()\n"
   ]
  },
  {
   "cell_type": "code",
   "execution_count": null,
   "metadata": {},
   "outputs": [
    {
     "name": "stdout",
     "output_type": "stream",
     "text": [
      "(60000, 28, 28) -> (60000, 784)\n",
      "(10000, 28, 28) -> (10000, 784)\n"
     ]
    }
   ],
   "source": [
    "def 전처리(images, 목표형상):\n",
    "    # 이미지 형상 조정\n",
    "    images = images.reshape(-1, *목표형상)\n",
    "    # 정규화: 0~255 -> 0~1\n",
    "    images = images / 255\n",
    "    return images.astype('float32')\n",
    "\n",
    "목표형상 = (784,)\n",
    "X_train = 전처리(train_images, 목표형상)\n",
    "X_test = 전처리(test_images, 목표형상)\n",
    "assert 목표형상 == X_train.shape[1:] == X_test.shape[1:]\n",
    "assert np.allclose(X_train[0].max(), 1.0)\n",
    "print(f'{train_images.shape} -> {X_train.shape}')   \n",
    "print(f'{test_images.shape} -> {X_test.shape}')"
   ]
  },
  {
   "cell_type": "code",
   "execution_count": null,
   "metadata": {},
   "outputs": [],
   "source": [
    "model = 신경망()\n",
    "# 은닉층\n",
    "model.add(FC(입력수=784, 출력수=50, 활성화=sigmoid))\n",
    "model.add(FC(입력수=50, 출력수=100, 활성화=sigmoid))\n",
    "model.add(FC(입력수=100, 출력수=10)) # 출력층"
   ]
  },
  {
   "cell_type": "code",
   "execution_count": null,
   "metadata": {},
   "outputs": [
    {
     "name": "stdout",
     "output_type": "stream",
     "text": [
      "입력: (10000, 784) -> 신경망 -> 출력: (10000, 10)\n"
     ]
    }
   ],
   "source": [
    "outputs = model(X_test)\n",
    "print(f'입력: {X_test.shape} -> 신경망 -> 출력: {output.shape}')"
   ]
  },
  {
   "cell_type": "markdown",
   "metadata": {},
   "source": [
    "# 출력 처리"
   ]
  },
  {
   "cell_type": "code",
   "execution_count": null,
   "metadata": {},
   "outputs": [
    {
     "data": {
      "text/plain": [
       "array([2, 1, 0])"
      ]
     },
     "execution_count": 122,
     "metadata": {},
     "output_type": "execute_result"
    }
   ],
   "source": [
    "z_last = np.array([[0.1, 0.2, 0.3], \n",
    "                  [0.2, 0.3, 0.1], \n",
    "                  [0.3, 0.1, 0.2]])\n",
    "\n",
    "y_pred = np.argmax(z_last, axis=1)\n",
    "y_pred"
   ]
  },
  {
   "cell_type": "code",
   "execution_count": null,
   "metadata": {},
   "outputs": [
    {
     "data": {
      "text/html": [
       "<div>\n",
       "<style scoped>\n",
       "    .dataframe tbody tr th:only-of-type {\n",
       "        vertical-align: middle;\n",
       "    }\n",
       "\n",
       "    .dataframe tbody tr th {\n",
       "        vertical-align: top;\n",
       "    }\n",
       "\n",
       "    .dataframe thead th {\n",
       "        text-align: right;\n",
       "    }\n",
       "</style>\n",
       "<table border=\"1\" class=\"dataframe\">\n",
       "  <thead>\n",
       "    <tr style=\"text-align: right;\">\n",
       "      <th></th>\n",
       "      <th>0</th>\n",
       "      <th>1</th>\n",
       "      <th>2</th>\n",
       "      <th>3</th>\n",
       "      <th>4</th>\n",
       "      <th>5</th>\n",
       "      <th>6</th>\n",
       "      <th>7</th>\n",
       "      <th>8</th>\n",
       "      <th>9</th>\n",
       "    </tr>\n",
       "  </thead>\n",
       "  <tbody>\n",
       "    <tr>\n",
       "      <th>0</th>\n",
       "      <td>-4.246997</td>\n",
       "      <td>-5.198658</td>\n",
       "      <td>2.691582</td>\n",
       "      <td>6.466290</td>\n",
       "      <td>-0.071631</td>\n",
       "      <td>0.443145</td>\n",
       "      <td>-6.015078</td>\n",
       "      <td>4.554680</td>\n",
       "      <td>-10.362875</td>\n",
       "      <td>-5.844181</td>\n",
       "    </tr>\n",
       "    <tr>\n",
       "      <th>1</th>\n",
       "      <td>-11.945343</td>\n",
       "      <td>-2.515891</td>\n",
       "      <td>0.526973</td>\n",
       "      <td>11.737479</td>\n",
       "      <td>-4.520778</td>\n",
       "      <td>6.931345</td>\n",
       "      <td>-4.669815</td>\n",
       "      <td>10.252302</td>\n",
       "      <td>-7.218802</td>\n",
       "      <td>-2.809741</td>\n",
       "    </tr>\n",
       "    <tr>\n",
       "      <th>2</th>\n",
       "      <td>-6.563026</td>\n",
       "      <td>1.097351</td>\n",
       "      <td>4.711430</td>\n",
       "      <td>1.555954</td>\n",
       "      <td>3.828828</td>\n",
       "      <td>4.659877</td>\n",
       "      <td>-2.267491</td>\n",
       "      <td>2.743273</td>\n",
       "      <td>-7.071434</td>\n",
       "      <td>-2.209901</td>\n",
       "    </tr>\n",
       "    <tr>\n",
       "      <th>3</th>\n",
       "      <td>-5.972835</td>\n",
       "      <td>-3.758653</td>\n",
       "      <td>0.064978</td>\n",
       "      <td>6.688103</td>\n",
       "      <td>-3.597103</td>\n",
       "      <td>6.657546</td>\n",
       "      <td>-5.822177</td>\n",
       "      <td>9.275110</td>\n",
       "      <td>-8.595460</td>\n",
       "      <td>1.268968</td>\n",
       "    </tr>\n",
       "    <tr>\n",
       "      <th>4</th>\n",
       "      <td>-3.887626</td>\n",
       "      <td>-0.687163</td>\n",
       "      <td>2.883084</td>\n",
       "      <td>6.998353</td>\n",
       "      <td>-5.627779</td>\n",
       "      <td>6.242238</td>\n",
       "      <td>0.010007</td>\n",
       "      <td>8.714673</td>\n",
       "      <td>-7.296969</td>\n",
       "      <td>3.708619</td>\n",
       "    </tr>\n",
       "    <tr>\n",
       "      <th>5</th>\n",
       "      <td>-7.574771</td>\n",
       "      <td>1.722724</td>\n",
       "      <td>5.273557</td>\n",
       "      <td>3.363879</td>\n",
       "      <td>2.527008</td>\n",
       "      <td>4.208120</td>\n",
       "      <td>-2.932429</td>\n",
       "      <td>5.553805</td>\n",
       "      <td>-10.161496</td>\n",
       "      <td>0.063195</td>\n",
       "    </tr>\n",
       "    <tr>\n",
       "      <th>6</th>\n",
       "      <td>-10.292237</td>\n",
       "      <td>-3.069476</td>\n",
       "      <td>3.722402</td>\n",
       "      <td>6.163306</td>\n",
       "      <td>1.000837</td>\n",
       "      <td>3.528153</td>\n",
       "      <td>-5.613394</td>\n",
       "      <td>4.655916</td>\n",
       "      <td>-10.929194</td>\n",
       "      <td>-0.961907</td>\n",
       "    </tr>\n",
       "    <tr>\n",
       "      <th>7</th>\n",
       "      <td>-8.174687</td>\n",
       "      <td>-2.237100</td>\n",
       "      <td>6.616527</td>\n",
       "      <td>3.086588</td>\n",
       "      <td>0.190573</td>\n",
       "      <td>4.991383</td>\n",
       "      <td>1.450079</td>\n",
       "      <td>9.210809</td>\n",
       "      <td>-11.062330</td>\n",
       "      <td>6.143699</td>\n",
       "    </tr>\n",
       "    <tr>\n",
       "      <th>8</th>\n",
       "      <td>-5.985512</td>\n",
       "      <td>-1.571229</td>\n",
       "      <td>0.007184</td>\n",
       "      <td>4.840019</td>\n",
       "      <td>-5.011345</td>\n",
       "      <td>0.547503</td>\n",
       "      <td>-1.768027</td>\n",
       "      <td>10.405055</td>\n",
       "      <td>-12.760784</td>\n",
       "      <td>0.723024</td>\n",
       "    </tr>\n",
       "    <tr>\n",
       "      <th>9</th>\n",
       "      <td>-7.850575</td>\n",
       "      <td>-4.585243</td>\n",
       "      <td>6.882471</td>\n",
       "      <td>3.907324</td>\n",
       "      <td>-1.116277</td>\n",
       "      <td>0.082824</td>\n",
       "      <td>-2.412331</td>\n",
       "      <td>8.992396</td>\n",
       "      <td>-7.831023</td>\n",
       "      <td>2.633532</td>\n",
       "    </tr>\n",
       "  </tbody>\n",
       "</table>\n",
       "</div>"
      ],
      "text/plain": [
       "           0         1         2          3         4         5         6  \\\n",
       "0  -4.246997 -5.198658  2.691582   6.466290 -0.071631  0.443145 -6.015078   \n",
       "1 -11.945343 -2.515891  0.526973  11.737479 -4.520778  6.931345 -4.669815   \n",
       "2  -6.563026  1.097351  4.711430   1.555954  3.828828  4.659877 -2.267491   \n",
       "3  -5.972835 -3.758653  0.064978   6.688103 -3.597103  6.657546 -5.822177   \n",
       "4  -3.887626 -0.687163  2.883084   6.998353 -5.627779  6.242238  0.010007   \n",
       "5  -7.574771  1.722724  5.273557   3.363879  2.527008  4.208120 -2.932429   \n",
       "6 -10.292237 -3.069476  3.722402   6.163306  1.000837  3.528153 -5.613394   \n",
       "7  -8.174687 -2.237100  6.616527   3.086588  0.190573  4.991383  1.450079   \n",
       "8  -5.985512 -1.571229  0.007184   4.840019 -5.011345  0.547503 -1.768027   \n",
       "9  -7.850575 -4.585243  6.882471   3.907324 -1.116277  0.082824 -2.412331   \n",
       "\n",
       "           7          8         9  \n",
       "0   4.554680 -10.362875 -5.844181  \n",
       "1  10.252302  -7.218802 -2.809741  \n",
       "2   2.743273  -7.071434 -2.209901  \n",
       "3   9.275110  -8.595460  1.268968  \n",
       "4   8.714673  -7.296969  3.708619  \n",
       "5   5.553805 -10.161496  0.063195  \n",
       "6   4.655916 -10.929194 -0.961907  \n",
       "7   9.210809 -11.062330  6.143699  \n",
       "8  10.405055 -12.760784  0.723024  \n",
       "9   8.992396  -7.831023  2.633532  "
      ]
     },
     "execution_count": 143,
     "metadata": {},
     "output_type": "execute_result"
    }
   ],
   "source": [
    "pd.DataFrame(outputs[:10])"
   ]
  },
  {
   "cell_type": "code",
   "execution_count": null,
   "metadata": {},
   "outputs": [
    {
     "name": "stdout",
     "output_type": "stream",
     "text": [
      "[3 3 2 7 7] ?= [7 2 1 0 4]\n",
      "정확도: 10.00%\n"
     ]
    }
   ],
   "source": [
    "y_pred = np.argmax(outputs, axis=1)\n",
    "print(y_pred[:5] , '?=', test_labels[:5])\n",
    "채점 = y_pred == test_labels\n",
    "print(f'정확도: {np.mean(채점):.2%}')"
   ]
  },
  {
   "cell_type": "markdown",
   "metadata": {},
   "source": [
    "# 학습된 매개변수 적용"
   ]
  },
  {
   "cell_type": "code",
   "execution_count": 159,
   "metadata": {},
   "outputs": [
    {
     "name": "stdout",
     "output_type": "stream",
     "text": [
      "(784, 50) (784, 50)\n",
      "(50, 100) (50, 100)\n",
      "(100, 10) (100, 10)\n",
      "정확도: 93.52%\n"
     ]
    }
   ],
   "source": [
    "import pickle\n",
    "\n",
    "with open('data/mnist/mnist_weight.pkl', 'rb') as f:\n",
    "    weights = pickle.load(f)\n",
    "\n",
    "model = 신경망()\n",
    "model.add(FC(입력수=784, 출력수=50, 활성화=sigmoid))\n",
    "model.add(FC(입력수=50, 출력수=100, 활성화=sigmoid))\n",
    "model.add(FC(입력수=100, 출력수=10))\n",
    "\n",
    "for layer, (W, b) in zip (model.layers, weights):\n",
    "    print(layer.W.shape, W.shape)\n",
    "    assert layer.W.shape == W.shape\n",
    "    assert layer.b.shape == b.shape\n",
    "    # 학습된 가중치를 모형에 적용하기\n",
    "    layer.W = W\n",
    "    layer.b = b\n",
    "\n",
    "outputs = model(X_test)\n",
    "y_pred = np.argmax(outputs, axis=1)\n",
    "print(f'정확도: {np.mean(y_pred == test_labels):.2%}')\n",
    "    "
   ]
  },
  {
   "cell_type": "code",
   "execution_count": null,
   "metadata": {},
   "outputs": [],
   "source": []
  }
 ],
 "metadata": {
  "kernelspec": {
   "display_name": "pydeep",
   "language": "python",
   "name": "python3"
  },
  "language_info": {
   "codemirror_mode": {
    "name": "ipython",
    "version": 3
   },
   "file_extension": ".py",
   "mimetype": "text/x-python",
   "name": "python",
   "nbconvert_exporter": "python",
   "pygments_lexer": "ipython3",
   "version": "3.9.19"
  }
 },
 "nbformat": 4,
 "nbformat_minor": 2
}
