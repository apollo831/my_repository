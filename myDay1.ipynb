{
 "cells": [
  {
   "cell_type": "code",
   "execution_count": 7,
   "metadata": {},
   "outputs": [
    {
     "name": "stdout",
     "output_type": "stream",
     "text": [
      "세ㄹ 실행은 shift + enter 키를 누르세요\n"
     ]
    }
   ],
   "source": [
    "print('세ㄹ 실행은 shift + enter 키를 누르세요')"
   ]
  },
  {
   "cell_type": "code",
   "execution_count": 8,
   "metadata": {},
   "outputs": [],
   "source": [
    "import sys"
   ]
  },
  {
   "cell_type": "code",
   "execution_count": 9,
   "metadata": {},
   "outputs": [
    {
     "name": "stdout",
     "output_type": "stream",
     "text": [
      "numpy 1.25.2\n",
      "pandas 2.2.2\n",
      "skleaern 1.4.2\n",
      "tenserflow 2.16.1\n"
     ]
    }
   ],
   "source": [
    "import numpy as np\n",
    "import pandas as pd\n",
    "import sklearn\n",
    "import matplotlib.pyplot as plt\n",
    "import tensorflow as tf\n",
    "\n",
    "print(f'numpy {np.__version__}')\n",
    "print(f'pandas {pd.__version__}')\n",
    "print(f'skleaern {sklearn.__version__}')\n",
    "print(f'tenserflow {tf.__version__}')"
   ]
  },
  {
   "cell_type": "markdown",
   "metadata": {},
   "source": [
    "# 문서를 만들때는 마크다운을 이용해 보세요"
   ]
  },
  {
   "cell_type": "markdown",
   "metadata": {},
   "source": [
    "# NumPy"
   ]
  },
  {
   "cell_type": "code",
   "execution_count": 10,
   "metadata": {},
   "outputs": [],
   "source": [
    "import numpy as np"
   ]
  },
  {
   "cell_type": "code",
   "execution_count": 11,
   "metadata": {},
   "outputs": [
    {
     "name": "stdout",
     "output_type": "stream",
     "text": [
      "<class 'list'>\n",
      "[0, 1, 2, 3, 4, 5, 6, 7, 8, 9]\n",
      "10\n",
      "[0, 1, 2, 3, 4, 5, 6, 7, 8, 9, 0, 1, 2, 3, 4, 5, 6, 7, 8, 9]\n",
      "[0, 1, 2, 3, 4, 5, 6, 7, 8, 9, 0, 1, 2, 3, 4, 5, 6, 7, 8, 9]\n",
      "[0, 2, 4, 6, 8, 10, 12, 14, 16, 18]\n"
     ]
    }
   ],
   "source": [
    "x = list(range(10))\n",
    "print(type(x))\n",
    "print(x)\n",
    "print(len(x))\n",
    "print (x*2)\n",
    "print (x + x)\n",
    "x2 = [i*2 for i in x]\n",
    "print(x2)"
   ]
  },
  {
   "cell_type": "code",
   "execution_count": 12,
   "metadata": {},
   "outputs": [
    {
     "name": "stdout",
     "output_type": "stream",
     "text": [
      "<class 'numpy.ndarray'>\n",
      "[0 1 2 3 4 5 6 7 8 9]\n",
      "10\n",
      "[ 0  2  4  6  8 10 12 14 16 18]\n"
     ]
    }
   ],
   "source": [
    "x = np.array(range(10))\n",
    "print(type(x))\n",
    "print(x)\n",
    "print(len(x))\n",
    "\n",
    "print(x*2)\n"
   ]
  },
  {
   "cell_type": "code",
   "execution_count": 13,
   "metadata": {},
   "outputs": [
    {
     "name": "stdout",
     "output_type": "stream",
     "text": [
      "[[1 2 3]\n",
      " [4 5 6]]\n",
      "2\n",
      "(2, 3)\n",
      "element datatype int64\n",
      "[[0 0 0]\n",
      " [0 0 0]]\n",
      "[[ 2  4  6]\n",
      " [ 8 10 12]]\n"
     ]
    }
   ],
   "source": [
    "\n",
    "x2 = np.array([[1,2,3], [4,5,6]])\n",
    "print(x2)\n",
    "print(len(x2))\n",
    "print(x2.shape)\n",
    "print('element datatype', x2.dtype)\n",
    "\n",
    "\n",
    "print (x2 -x2)\n",
    "print (x2 *2)"
   ]
  },
  {
   "cell_type": "markdown",
   "metadata": {},
   "source": [
    "# 기계학습 리뷰"
   ]
  },
  {
   "cell_type": "code",
   "execution_count": 14,
   "metadata": {},
   "outputs": [
    {
     "name": "stdout",
     "output_type": "stream",
     "text": [
      "[-5.        -4.8989899 -4.7979798]...[4.7979798 4.8989899 5.       ]\n",
      "(100,) -> (100, 1)\n"
     ]
    },
    {
     "data": {
      "image/png": "[encoded data removed]",
      "text/plain": [
       "<Figure size 640x480 with 1 Axes>"
      ]
     },
     "metadata": {},
     "output_type": "display_data"
    }
   ],
   "source": [
    "import matplotlib.pyplot as plt\n",
    "# 기계학습 알고리즘 선택\n",
    "from sklearn.linear_model import LinearRegression # 선형 회귀\n",
    "\n",
    "# 난수 초기값 설정\n",
    "random = np.random.RandomState(0)\n",
    "\n",
    "xs = np.linspace(-5, 5, 100)\n",
    "noise = np.random.randn(len(xs))\n",
    "ys = xs + noise\n",
    "print(f'{xs[:3]}...{xs[-3:]}')\n",
    "\n",
    "# 선형 회귀 모델 생성\n",
    "Xs = xs.reshape(-1,1)\n",
    "print(xs.shape, '->', Xs.shape)\n",
    "model = LinearRegression().fit(Xs, ys)\n",
    "\n",
    "plt.scatter(xs, ys)\n",
    "plt.plot(xs, ys - noise, 'r--')\n",
    "\n",
    "\n",
    "# 회귀선\n",
    "plt.plot(xs, model.predict(Xs), 'k-')\n",
    "plt.show()"
   ]
  },
  {
   "cell_type": "markdown",
   "metadata": {},
   "source": [
    "# 1943 MCP뉴런"
   ]
  },
  {
   "cell_type": "code",
   "execution_count": 15,
   "metadata": {},
   "outputs": [
    {
     "name": "stdout",
     "output_type": "stream",
     "text": [
      "x = [0.1 0.2 0.3] -> w = [ 0.83406692 -0.02739735  0.7158803 ] -> z = 0.29\n",
      "b = -1.02 -> y = 1\n"
     ]
    }
   ],
   "source": [
    "x = np.array([0.1, 0.2, 0.3])\n",
    "w = np.random.randn(len(x))\n",
    "\n",
    "x * w\n",
    "\n",
    "z = np.sum(x * w)\n",
    "assert z == np.dot(x, w) == x @ w\n",
    "print(f'x = {x} -> w = {w} -> z = {z:.2f}')\n",
    "\n",
    "\n",
    "b = np.random.randn()\n",
    "y = 1 if z > b else -1\n",
    "print(f'b = {b:.2f} -> y = {y}')"
   ]
  },
  {
   "cell_type": "code",
   "execution_count": 16,
   "metadata": {},
   "outputs": [
    {
     "name": "stdout",
     "output_type": "stream",
     "text": [
      "x = [0.1 0.2 0.3] -> MCP(w, b) -> y = -1\n"
     ]
    }
   ],
   "source": [
    "def MCP뉴런(x, w, b):\n",
    "    z = np.dot(x, w) + b\n",
    "    y = 1 if z > 0 else -1\n",
    "    return y\n",
    "\n",
    "x = np.array([0.1, 0.2, 0.3])\n",
    "w = np.random.randn(len(x))\n",
    "b = np.random.randn()\n",
    "y = MCP뉴런(x, w, b)\n",
    "print(f'x = {x} -> MCP(w, b) -> y = {y}')"
   ]
  },
  {
   "cell_type": "markdown",
   "metadata": {},
   "source": [
    "\n",
    "## 논리회로"
   ]
  },
  {
   "cell_type": "code",
   "execution_count": 17,
   "metadata": {},
   "outputs": [
    {
     "name": "stdout",
     "output_type": "stream",
     "text": [
      "AND 게이트\n",
      "x = [0 0] -> y = -1\n",
      "x = [0 1] -> y = -1\n",
      "x = [1 0] -> y = -1\n",
      "x = [1 1] -> y = 1\n",
      "NAND 게이트\n",
      "x = [0 0] -> y = 1\n",
      "x = [0 1] -> y = 1\n",
      "x = [1 0] -> y = 1\n",
      "x = [1 1] -> y = -1\n",
      "OR 게이트\n",
      "x = [0 0] -> y = -1\n",
      "x = [0 1] -> y = 1\n",
      "x = [1 0] -> y = 1\n",
      "x = [1 1] -> y = 1\n"
     ]
    }
   ],
   "source": [
    "def logic(w, b):\n",
    "    x = np.array([[0,0], [0,1], [1,0], [1,1]])\n",
    "    ys = []\n",
    "    for xi in x:\n",
    "        y = MCP뉴런(xi, w, b)\n",
    "        ys.append(y)\n",
    "        print(f'x = {xi} -> y = {y}')\n",
    "    return ys\n",
    "\n",
    "print('AND 게이트')\n",
    "w_and = np.array([0.5, 0.5])\n",
    "b_and = -0.7\n",
    "logic(w_and, b_and)\n",
    "\n",
    "print('NAND 게이트')\n",
    "w_nand = -w_and\n",
    "b_nand = -b_and\n",
    "logic(w_nand, b_nand)\n",
    "\n",
    "print('OR 게이트')\n",
    "w_or = np.array([0.5, 0.5])\n",
    "b_or = -0.2\n",
    "assert all(logic(w_or, b_or) == np.array([-1, 1, 1, 1]))"
   ]
  },
  {
   "cell_type": "markdown",
   "metadata": {},
   "source": [
    "# 1958퍼셉트론"
   ]
  },
  {
   "cell_type": "code",
   "execution_count": 18,
   "metadata": {},
   "outputs": [],
   "source": [
    "class 퍼셉트론:\n",
    "    def __init__(self, w, b):\n",
    "        self.w = None\n",
    "        self.b = None\n",
    "\n",
    "    def __call__(self, Xs):\n",
    "        z = np.dot(Xs, self.w) + self.b\n",
    "        return MCP뉴런(x, self.w, self.b)\n",
    "\n",
    "    def 학습(self, data, target):\n",
    "        표본수, 특성수 = data.shape\n",
    "        # 매개변수 초기화\n",
    "        self.w = np.random.randn(특성수)\n",
    "        self.b = np.randon.randn()\n",
    "\n",
    "AND = 퍼셉트론(w=w_and, b=b_and)"
   ]
  },
  {
   "cell_type": "code",
   "execution_count": 19,
   "metadata": {},
   "outputs": [
    {
     "name": "stdout",
     "output_type": "stream",
     "text": [
      "xs -> 퍼셉트론 -> ys = [-1 -1 -1  1]\n"
     ]
    }
   ],
   "source": [
    "class 퍼셉트론:\n",
    "    def __init__(self, w, b):\n",
    "        self.w = w\n",
    "        self.b = b\n",
    "\n",
    "    def __call__(self, Xs):\n",
    "        z = np.dot(Xs, self.w) + self.b\n",
    "        return np.where(z > 0, 1, -1)\n",
    "\n",
    "    def 학습(self, data, target):\n",
    "        표본수, 특성수 = data.shape\n",
    "        # 매개변수 초기화\n",
    "        self.w = np.random.randn(특성수)\n",
    "        self.b = np.random.randn()\n",
    "\n",
    "AND = 퍼셉트론(w=w_and, b=b_and)\n",
    "Xs = np.array([[0,0], [0,1], [1,0], [1,1]])\n",
    "ys = AND(Xs)\n",
    "assert all(ys == np.array([-1, -1, -1, 1]))\n",
    "print(f'xs -> 퍼셉트론 -> ys = {ys}')"
   ]
  },
  {
   "cell_type": "code",
   "execution_count": 20,
   "metadata": {},
   "outputs": [
    {
     "name": "stdout",
     "output_type": "stream",
     "text": [
      "학습 0: w = [0. 0.],  b = 0.0\n",
      "학습 1: w = [2. 2.],  b = 2.0\n",
      "학습 2: w = [4. 2.],  b = 0.0\n",
      "학습 3: w = [4. 2.],  b = -2.0\n",
      "학습 4: w = [4. 4.],  b = -2.0\n",
      "학습 5: w = [4. 2.],  b = -4.0\n",
      "학습 6: w = [4. 2.],  b = -4.0\n",
      "학습 7: w = [4. 2.],  b = -4.0\n",
      "학습 8: w = [4. 2.],  b = -4.0\n",
      "학습 9: w = [4. 2.],  b = -4.0\n",
      "xs -> 퍼셉트론 -> ys = [-1 -1 -1  1]\n"
     ]
    }
   ],
   "source": [
    "class 퍼셉트론:\n",
    "    def __init__(self, w, b):\n",
    "        self.w = w\n",
    "        self.b = b\n",
    "\n",
    "    def __call__(self, Xs):\n",
    "        z = np.dot(Xs, self.w) + self.b\n",
    "        return np.where(z > 0, 1, -1)\n",
    "\n",
    "    def 학습(self, data, target, 학습횟수=1, 학습률=1.0):\n",
    "        표본수, 특성수 = data.shape\n",
    "        # 매개변수 초기화\n",
    "        self.w = np.zeros(특성수)\n",
    "        self.b = 0.0\n",
    "\n",
    "        정답 = target\n",
    "        for 학습 in range(학습횟수):\n",
    "            print(f'학습 {학습}: w = {self.w},  b = {self.b}')\n",
    "            for xi, yi in zip(data, 정답):\n",
    "                예측 = self(xi)\n",
    "                오류 = yi - 예측\n",
    "                갱신 = 오류 * 학습률\n",
    "                self.w += 갱신 * xi\n",
    "                self.b += 갱신\n",
    "\n",
    "AND = 퍼셉트론(w=w_and, b=b_and)\n",
    "Xs = np.array([[0,0], [0,1], [1,0], [1,1]])\n",
    "# 정답 \n",
    "y_and = np.array([-1,-1,-1,1])\n",
    "# 지도학습\n",
    "AND.학습(data=Xs, target=y_and, 학습횟수=10, 학습률=1.0)\n",
    "# 학습 결과 확인\n",
    "ys = AND(Xs)\n",
    "assert all(ys == np.array([-1, -1, -1, 1]))\n",
    "print(f'xs -> 퍼셉트론 -> ys = {ys}')\n"
   ]
  },
  {
   "cell_type": "markdown",
   "metadata": {},
   "source": [
    "### 응용 사례: 붓꽃 분류"
   ]
  },
  {
   "cell_type": "code",
   "execution_count": 21,
   "metadata": {},
   "outputs": [
    {
     "name": "stdout",
     "output_type": "stream",
     "text": [
      "(150, 4)\n",
      "[[5.1 3.5 1.4 0.2]\n",
      " [4.9 3.  1.4 0.2]\n",
      " [4.7 3.2 1.3 0.2]\n",
      " [4.6 3.1 1.5 0.2]\n",
      " [5.  3.6 1.4 0.2]]\n"
     ]
    }
   ],
   "source": [
    "from sklearn.datasets import load_iris\n",
    "\n",
    "iris = load_iris()\n",
    "\n",
    "print(iris.data.shape)\n",
    "print(iris.data[:5])"
   ]
  },
  {
   "cell_type": "code",
   "execution_count": 22,
   "metadata": {},
   "outputs": [
    {
     "name": "stdout",
     "output_type": "stream",
     "text": [
      "['setosa' 'versicolor' 'virginica']\n",
      "정수 인코딩: [0 1 2]\n",
      "유형병 도수: [50 50 50]\n",
      "0 x 50, 1 x 50, 2 x 50\n"
     ]
    }
   ],
   "source": [
    "print(iris.target_names)\n",
    "집합, 도수 = np.unique(iris.target, return_counts=True)\n",
    "print(f'정수 인코딩: {집합}')\n",
    "print(f'유형병 도수: {도수}')\n",
    "print(', '.join(f'{원소} x {도수}' for 원소, 도수 in zip(집합, 도수)))"
   ]
  },
  {
   "cell_type": "code",
   "execution_count": 23,
   "metadata": {},
   "outputs": [
    {
     "name": "stderr",
     "output_type": "stream",
     "text": [
      "/var/folders/jc/1rcjj0kj5zv2wck43jqpwzlw0000gn/T/ipykernel_1001/1978149122.py:6: FutureWarning: A value is trying to be set on a copy of a DataFrame or Series through chained assignment using an inplace method.\n",
      "The behavior will change in pandas 3.0. This inplace method will never work because the intermediate object on which we are setting values always behaves as a copy.\n",
      "\n",
      "For example, when doing 'df[col].method(value, inplace=True)', try using 'df.method({col: value}, inplace=True)' or df[col] = df[col].method(value) instead, to perform the operation inplace on the original object.\n",
      "\n",
      "\n",
      "  iris.frame['품종'].replace({0: 'setosa', 1: 'versicolor', 2: 'virginica'}, inplace=True)\n"
     ]
    },
    {
     "data": {
      "text/html": [
       "<div>\n",
       "<style scoped>\n",
       "    .dataframe tbody tr th:only-of-type {\n",
       "        vertical-align: middle;\n",
       "    }\n",
       "\n",
       "    .dataframe tbody tr th {\n",
       "        vertical-align: top;\n",
       "    }\n",
       "\n",
       "    .dataframe thead th {\n",
       "        text-align: right;\n",
       "    }\n",
       "</style>\n",
       "<table border=\"1\" class=\"dataframe\">\n",
       "  <thead>\n",
       "    <tr style=\"text-align: right;\">\n",
       "      <th></th>\n",
       "      <th>sepal length (cm)</th>\n",
       "      <th>sepal width (cm)</th>\n",
       "      <th>petal length (cm)</th>\n",
       "      <th>petal width (cm)</th>\n",
       "      <th>품종</th>\n",
       "    </tr>\n",
       "  </thead>\n",
       "  <tbody>\n",
       "    <tr>\n",
       "      <th>0</th>\n",
       "      <td>5.1</td>\n",
       "      <td>3.5</td>\n",
       "      <td>1.4</td>\n",
       "      <td>0.2</td>\n",
       "      <td>setosa</td>\n",
       "    </tr>\n",
       "    <tr>\n",
       "      <th>1</th>\n",
       "      <td>4.9</td>\n",
       "      <td>3.0</td>\n",
       "      <td>1.4</td>\n",
       "      <td>0.2</td>\n",
       "      <td>setosa</td>\n",
       "    </tr>\n",
       "    <tr>\n",
       "      <th>2</th>\n",
       "      <td>4.7</td>\n",
       "      <td>3.2</td>\n",
       "      <td>1.3</td>\n",
       "      <td>0.2</td>\n",
       "      <td>setosa</td>\n",
       "    </tr>\n",
       "    <tr>\n",
       "      <th>3</th>\n",
       "      <td>4.6</td>\n",
       "      <td>3.1</td>\n",
       "      <td>1.5</td>\n",
       "      <td>0.2</td>\n",
       "      <td>setosa</td>\n",
       "    </tr>\n",
       "    <tr>\n",
       "      <th>4</th>\n",
       "      <td>5.0</td>\n",
       "      <td>3.6</td>\n",
       "      <td>1.4</td>\n",
       "      <td>0.2</td>\n",
       "      <td>setosa</td>\n",
       "    </tr>\n",
       "  </tbody>\n",
       "</table>\n",
       "</div>"
      ],
      "text/plain": [
       "   sepal length (cm)  sepal width (cm)  petal length (cm)  petal width (cm)  \\\n",
       "0                5.1               3.5                1.4               0.2   \n",
       "1                4.9               3.0                1.4               0.2   \n",
       "2                4.7               3.2                1.3               0.2   \n",
       "3                4.6               3.1                1.5               0.2   \n",
       "4                5.0               3.6                1.4               0.2   \n",
       "\n",
       "       품종  \n",
       "0  setosa  \n",
       "1  setosa  \n",
       "2  setosa  \n",
       "3  setosa  \n",
       "4  setosa  "
      ]
     },
     "execution_count": 23,
     "metadata": {},
     "output_type": "execute_result"
    }
   ],
   "source": [
    "import pandas as pd\n",
    "\n",
    "iris.frame = pd.DataFrame(iris.data, columns=iris.feature_names)\n",
    "iris.frame['품종'] = iris.target\n",
    "# label encoding\n",
    "iris.frame['품종'].replace({0: 'setosa', 1: 'versicolor', 2: 'virginica'}, inplace=True)\n",
    "iris.frame[:5]"
   ]
  },
  {
   "cell_type": "code",
   "execution_count": 24,
   "metadata": {},
   "outputs": [
    {
     "name": "stdout",
     "output_type": "stream",
     "text": [
      "<class 'pandas.core.frame.DataFrame'>\n",
      "RangeIndex: 150 entries, 0 to 149\n",
      "Data columns (total 5 columns):\n",
      " #   Column             Non-Null Count  Dtype  \n",
      "---  ------             --------------  -----  \n",
      " 0   sepal length (cm)  150 non-null    float64\n",
      " 1   sepal width (cm)   150 non-null    float64\n",
      " 2   petal length (cm)  150 non-null    float64\n",
      " 3   petal width (cm)   150 non-null    float64\n",
      " 4   품종                 150 non-null    object \n",
      "dtypes: float64(4), object(1)\n",
      "memory usage: 6.0+ KB\n"
     ]
    }
   ],
   "source": [
    "iris.frame.info()"
   ]
  },
  {
   "cell_type": "code",
   "execution_count": 25,
   "metadata": {},
   "outputs": [
    {
     "ename": "TypeError",
     "evalue": "__init__() missing 2 required positional arguments: 'w' and 'b'",
     "output_type": "error",
     "traceback": [
      "\u001b[0;31m---------------------------------------------------------------------------\u001b[0m",
      "\u001b[0;31mTypeError\u001b[0m                                 Traceback (most recent call last)",
      "Cell \u001b[0;32mIn[25], line 1\u001b[0m\n\u001b[0;32m----> 1\u001b[0m 붓꽃분류기 \u001b[38;5;241m=\u001b[39m \u001b[43m퍼셉트론\u001b[49m\u001b[43m(\u001b[49m\u001b[43m)\u001b[49m\n\u001b[1;32m      2\u001b[0m X1 \u001b[38;5;241m=\u001b[39m iris\u001b[38;5;241m.\u001b[39mdata[:\u001b[38;5;241m100\u001b[39m]\n\u001b[1;32m      3\u001b[0m y1 \u001b[38;5;241m=\u001b[39m iris\u001b[38;5;241m.\u001b[39mtarget[:\u001b[38;5;241m100\u001b[39m]\n",
      "\u001b[0;31mTypeError\u001b[0m: __init__() missing 2 required positional arguments: 'w' and 'b'"
     ]
    }
   ],
   "source": [
    "붓꽃분류기 = 퍼셉트론()\n",
    "X1 = iris.data[:100]\n",
    "y1 = iris.target[:100]\n",
    "y1 = np.where(y1 == 0, -1, 1)\n",
    "np.unique(y1, return_counts=True)\n",
    "\n",
    "붓꽃분류기.학습(data=X1, target=y1, 학습횟수=10, 학습률=0.1)\n",
    "예측 = 붓꽃분류기(X1)\n",
    "채점 = 예측 == y1\n",
    "print(f'{sum(채점)} / {len(채점)}')"
   ]
  },
  {
   "cell_type": "code",
   "execution_count": null,
   "metadata": {},
   "outputs": [],
   "source": []
  },
  {
   "cell_type": "code",
   "execution_count": null,
   "metadata": {},
   "outputs": [
    {
     "name": "stdout",
     "output_type": "stream",
     "text": [
      "(array([1, 2]), array([50, 50]))\n",
      "학습 0: w = [0. 0. 0. 0.], b = 0.0\n",
      "학습 1: w = [1.26 0.66 1.2  0.5 ], b = 0.2\n",
      "학습 2: w = [-0.16  0.04  0.56  0.42], b = 0.0\n",
      "학습 3: w = [-0.3   0.06  0.82  0.64], b = 0.0\n",
      "학습 4: w = [-0.44  0.08  1.08  0.86], b = 0.0\n",
      "학습 5: w = [-0.58  0.1   1.34  1.08], b = 0.0\n",
      "학습 6: w = [-0.72  0.12  1.6   1.3 ], b = 0.0\n",
      "학습 7: w = [-0.86  0.14  1.86  1.52], b = 0.0\n",
      "학습 8: w = [-1.    0.16  2.12  1.74], b = 0.0\n",
      "학습 9: w = [-1.14  0.18  2.38  1.96], b = 0.0\n",
      "50 / 100\n"
     ]
    }
   ],
   "source": [
    "붓꽃분류기 = 퍼셉트론()\n",
    "X2 = iris.data[50:]\n",
    "y2 = iris.target[50:]\n",
    "print(np.unique(y2, return_counts=True))\n",
    "y2 = np.where(y2 == 1, -1, 1)\n",
    "np.unique(y2, return_counts=True)\n",
    "\n",
    "붓꽃분류기.학습(data=X2, target=y2, 학습횟수=10, 학습률=0.1)\n",
    "예측 = 붓꽃분류기(X2)\n",
    "채점 = 예측 == y2\n",
    "print(f'{sum(채점)} / {len(채점)}')"
   ]
  },
  {
   "cell_type": "code",
   "execution_count": null,
   "metadata": {},
   "outputs": [],
   "source": []
  }
 ],
 "metadata": {
  "kernelspec": {
   "display_name": "pydeep",
   "language": "python",
   "name": "python3"
  },
  "language_info": {
   "codemirror_mode": {
    "name": "ipython",
    "version": 3
   },
   "file_extension": ".py",
   "mimetype": "text/x-python",
   "name": "python",
   "nbconvert_exporter": "python",
   "pygments_lexer": "ipython3",
   "version": "3.9.19"
  }
 },
 "nbformat": 4,
 "nbformat_minor": 2
}
